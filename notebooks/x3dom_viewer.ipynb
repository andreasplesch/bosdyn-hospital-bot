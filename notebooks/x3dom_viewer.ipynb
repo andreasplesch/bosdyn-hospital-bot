{
 "cells": [
  {
   "cell_type": "code",
   "execution_count": 1,
   "metadata": {},
   "outputs": [],
   "source": [
    "from IPython.display import HTML"
   ]
  },
  {
   "cell_type": "code",
   "execution_count": 2,
   "metadata": {},
   "outputs": [],
   "source": [
    "x3domHTML = '''\n",
    "<script type='text/javascript' src='https://www.x3dom.org/download/dev/x3dom-full.debug.js'> </script> \n",
    "<link rel='stylesheet' type='text/css' href='https://www.x3dom.org/download/dev/x3dom.css'></link>\n",
    "'''"
   ]
  },
  {
   "cell_type": "code",
   "execution_count": 3,
   "metadata": {},
   "outputs": [],
   "source": [
    "x3dInlineScene = '''\n",
    "<style>\n",
    "    X3D, x3d\n",
    "    {\n",
    "        border:2px solid darkorange;\n",
    "        background-image: url('https://raw.githubusercontent.com/andreasplesch/bosdyn-hospital-bot/jupyter/20200410-drspot-v1/20200410-drspot-v1-iso.JPG');\n",
    "        background-size: cover;\n",
    "    }\n",
    "</style>\n",
    "<X3D style='border: 2px;'>\n",
    "  <Scene>\n",
    "    <Viewpoint position=\"855.54355 493.51816 831.76218\" orientation=\"-0.34047 0.92858 0.14770 0.95675\" \n",
    "\tcenterOfRotation=\"68.97962 134.80502 207.50648\" description=\"matched View\"></Viewpoint>\n",
    "    <Transform translation='0 350 315' rotation='0 1 0 3.1415'>\n",
    "     <Transform rotation='1 0 0 0.15'>\n",
    "      <Inline url=' \"02-049531-001-A00 UTM ASSEMBLY.x3d\" '></Inline>\n",
    "      <!--Inline url=' \"02-049531-001-A00 UTM ASSEMBLY edges.x3d\" '></Inline-->\n",
    "     </Transform>\n",
    "    </Transform>\n",
    "    <Inline url=' \"02-049412-001-A00 DECON GUARD.x3d\" '></Inline>\n",
    "    <!--Inline url=' \"02-049412-001-A00 DECON GUARD edges.x3d\" '></Inline-->\n",
    "  </Scene>\n",
    "</X3D>\n",
    "'''"
   ]
  },
  {
   "cell_type": "code",
   "execution_count": 4,
   "metadata": {},
   "outputs": [
    {
     "data": {
      "text/html": [
       "\n",
       "<script type='text/javascript' src='https://www.x3dom.org/download/dev/x3dom-full.debug.js'> </script> \n",
       "<link rel='stylesheet' type='text/css' href='https://www.x3dom.org/download/dev/x3dom.css'></link>\n",
       "\n",
       "<style>\n",
       "    X3D, x3d\n",
       "    {\n",
       "        border:2px solid darkorange;\n",
       "        background-image: url('https://raw.githubusercontent.com/andreasplesch/bosdyn-hospital-bot/jupyter/20200410-drspot-v1/20200410-drspot-v1-iso.JPG');\n",
       "        background-size: cover;\n",
       "    }\n",
       "</style>\n",
       "<X3D style='border: 2px;'>\n",
       "  <Scene>\n",
       "    <Viewpoint position=\"855.54355 493.51816 831.76218\" orientation=\"-0.34047 0.92858 0.14770 0.95675\" \n",
       "\tcenterOfRotation=\"68.97962 134.80502 207.50648\" description=\"matched View\"></Viewpoint>\n",
       "    <Transform translation='0 350 315' rotation='0 1 0 3.1415'>\n",
       "     <Transform rotation='1 0 0 0.15'>\n",
       "      <Inline url=' \"02-049531-001-A00 UTM ASSEMBLY.x3d\" '></Inline>\n",
       "      <!--Inline url=' \"02-049531-001-A00 UTM ASSEMBLY edges.x3d\" '></Inline-->\n",
       "     </Transform>\n",
       "    </Transform>\n",
       "    <Inline url=' \"02-049412-001-A00 DECON GUARD.x3d\" '></Inline>\n",
       "    <!--Inline url=' \"02-049412-001-A00 DECON GUARD edges.x3d\" '></Inline-->\n",
       "  </Scene>\n",
       "</X3D>\n"
      ],
      "text/plain": [
       "<IPython.core.display.HTML object>"
      ]
     },
     "execution_count": 4,
     "metadata": {},
     "output_type": "execute_result"
    }
   ],
   "source": [
    "HTML(x3domHTML + x3dInlineScene)"
   ]
  },
  {
   "cell_type": "code",
   "execution_count": null,
   "metadata": {},
   "outputs": [],
   "source": []
  }
 ],
 "metadata": {
  "kernelspec": {
   "display_name": "Python 3",
   "language": "python",
   "name": "python3"
  },
  "language_info": {
   "codemirror_mode": {
    "name": "ipython",
    "version": 3
   },
   "file_extension": ".py",
   "mimetype": "text/x-python",
   "name": "python",
   "nbconvert_exporter": "python",
   "pygments_lexer": "ipython3",
   "version": "3.7.6"
  }
 },
 "nbformat": 4,
 "nbformat_minor": 4
}
