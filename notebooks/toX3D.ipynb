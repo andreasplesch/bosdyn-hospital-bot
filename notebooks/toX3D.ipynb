{
 "cells": [
  {
   "cell_type": "code",
   "execution_count": 2,
   "metadata": {},
   "outputs": [],
   "source": [
    "from OCC.Extend.DataExchange import read_step_file\n",
    "from OCC.Display.WebGl.x3dom_renderer import X3DExporter\n",
    "from IPython.display import HTML"
   ]
  },
  {
   "cell_type": "code",
   "execution_count": 61,
   "metadata": {},
   "outputs": [],
   "source": [
    "shp = read_step_file(os.path.join('..', '02-049531-001-A00 UTM ASSEMBLY', '02-049531-001-A00 UTM ASSEMBLY .step'))"
   ]
  },
  {
   "cell_type": "code",
   "execution_count": 78,
   "metadata": {},
   "outputs": [],
   "source": [
    "x3dexp = X3DExporter(shp, None, None, True, (1,1,0), (0,0,0), 0, 0, (0,0,0), 2, 1)\n"
   ]
  },
  {
   "cell_type": "code",
   "execution_count": 79,
   "metadata": {},
   "outputs": [],
   "source": [
    "x3dexp.compute()"
   ]
  },
  {
   "cell_type": "code",
   "execution_count": 65,
   "metadata": {},
   "outputs": [],
   "source": [
    "assemblyX3D=x3dexp.to_x3dfile_string(0)"
   ]
  },
  {
   "cell_type": "code",
   "execution_count": 83,
   "metadata": {},
   "outputs": [],
   "source": [
    "x3dexp.write_to_file(\"02-049531-001-A00 UTM ASSEMBLY edges.x3d\",0)"
   ]
  },
  {
   "cell_type": "code",
   "execution_count": 68,
   "metadata": {},
   "outputs": [],
   "source": [
    "shp2 = read_step_file(os.path.join('..', '02-049412-001-A00 DECON GUARD', '02-049412-001-A00 DECON GUARD.step'))"
   ]
  },
  {
   "cell_type": "code",
   "execution_count": 86,
   "metadata": {},
   "outputs": [],
   "source": [
    "x3dexp2 = X3DExporter(shp2, None, None, True, (0,1,1), (0,0,0), 0, 0, (0,0,0), 2, 1)\n",
    "x3dexp2.compute()"
   ]
  },
  {
   "cell_type": "code",
   "execution_count": 87,
   "metadata": {},
   "outputs": [
    {
     "data": {
      "text/plain": [
       "1"
      ]
     },
     "execution_count": 87,
     "metadata": {},
     "output_type": "execute_result"
    }
   ],
   "source": [
    "len(x3dexp2._triangle_sets)"
   ]
  },
  {
   "cell_type": "code",
   "execution_count": 71,
   "metadata": {},
   "outputs": [],
   "source": [
    "guardx3d=x3dexp2.to_x3dfile_string(0)"
   ]
  },
  {
   "cell_type": "code",
   "execution_count": 98,
   "metadata": {},
   "outputs": [],
   "source": [
    "x3dexp2.write_to_file(\"02-049412-001-A00 DECON GUARD edges.x3d\",0)"
   ]
  },
  {
   "cell_type": "markdown",
   "metadata": {},
   "source": [
    "### split up saved x3d files to triangleset only and linesets only with editor"
   ]
  },
  {
   "cell_type": "code",
   "execution_count": 73,
   "metadata": {},
   "outputs": [],
   "source": [
    "x3domHTML = '''\n",
    "<script type='text/javascript' src='https://www.x3dom.org/download/dev/x3dom-full.debug.js'> </script> \n",
    "<link rel='stylesheet' type='text/css' href='https://www.x3dom.org/download/dev/x3dom.css'></link>\n",
    "'''"
   ]
  },
  {
   "cell_type": "code",
   "execution_count": 111,
   "metadata": {},
   "outputs": [],
   "source": [
    "x3dInlineScene = '''\n",
    "<X3D width='600' height='400'>\n",
    "  <Scene>\n",
    "    <Transform translation='0 350 315' rotation='0 1 0 3.1415'>\n",
    "     <Transform rotation='1 0 0 0.15'>\n",
    "      <Inline url=' \"02-049531-001-A00 UTM ASSEMBLY.x3d\" '></Inline>\n",
    "      <!--Inline url=' \"02-049531-001-A00 UTM ASSEMBLY edges.x3d\" '></Inline-->\n",
    "     </Transform>\n",
    "    </Transform>\n",
    "    <Inline url=' \"02-049412-001-A00 DECON GUARD.x3d\" '></Inline>\n",
    "    <!--Inline url=' \"02-049412-001-A00 DECON GUARD edges.x3d\" '></Inline-->\n",
    "  </Scene>\n",
    "</X3D>\n",
    "'''"
   ]
  },
  {
   "cell_type": "markdown",
   "metadata": {},
   "source": [
    "## x3dom with pythonocc generated X3D (triangles)"
   ]
  },
  {
   "cell_type": "code",
   "execution_count": null,
   "metadata": {},
   "outputs": [],
   "source": [
    "HTML(x3domHTML + x3dInlineScene)"
   ]
  },
  {
   "cell_type": "code",
   "execution_count": null,
   "metadata": {},
   "outputs": [],
   "source": [
    "a"
   ]
  },
  {
   "cell_type": "code",
   "execution_count": null,
   "metadata": {},
   "outputs": [],
   "source": []
  }
 ],
 "metadata": {
  "kernelspec": {
   "display_name": "Python 3",
   "language": "python",
   "name": "python3"
  },
  "language_info": {
   "codemirror_mode": {
    "name": "ipython",
    "version": 3
   },
   "file_extension": ".py",
   "mimetype": "text/x-python",
   "name": "python",
   "nbconvert_exporter": "python",
   "pygments_lexer": "ipython3",
   "version": "3.7.6"
  }
 },
 "nbformat": 4,
 "nbformat_minor": 4
}
